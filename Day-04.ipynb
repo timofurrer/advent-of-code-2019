{
 "cells": [
  {
   "cell_type": "markdown",
   "metadata": {},
   "source": [
    "# Advent of Code 2019 - Day 04"
   ]
  },
  {
   "cell_type": "code",
   "execution_count": 1,
   "metadata": {},
   "outputs": [],
   "source": [
    "from pathlib import Path\n",
    "\n",
    "INPUT = (Path().absolute() / \"inputs\" / \"day04.txt\").open().read()"
   ]
  },
  {
   "cell_type": "code",
   "execution_count": 2,
   "metadata": {},
   "outputs": [],
   "source": [
    "import numpy as np\n",
    "import pandas as pd\n",
    "import seaborn as sns\n",
    "import matplotlib.pyplot as plt\n",
    "\n",
    "%matplotlib inline"
   ]
  },
  {
   "cell_type": "markdown",
   "metadata": {},
   "source": [
    "## Day 4: Secure Container\n",
    "\n",
    "You arrive at the Venus fuel depot only to discover it's protected by a password. The Elves had written the password on a sticky note, but someone threw it out.\n",
    "\n",
    "However, they do remember a few key facts about the password:\n",
    "\n",
    "* It is a six-digit number.\n",
    "* The value is within the range given in your puzzle input.\n",
    "* Two adjacent digits are the same (like 22 in 122345).\n",
    "* Going from left to right, the digits never decrease; they only ever increase or stay the same (like 111123 or 135679).\n",
    "\n",
    "Other than the range rule, the following are true:\n",
    "\n",
    "* 111111 meets these criteria (double 11, never decreases).\n",
    "* 223450 does not meet these criteria (decreasing pair of digits 50).\n",
    "* 123789 does not meet these criteria (no double).\n",
    "\n",
    "How many different passwords within the range given in your puzzle input meet these criteria?"
   ]
  },
  {
   "cell_type": "code",
   "execution_count": 3,
   "metadata": {},
   "outputs": [
    {
     "data": {
      "text/plain": [
       "'284639-748759'"
      ]
     },
     "execution_count": 3,
     "metadata": {},
     "output_type": "execute_result"
    }
   ],
   "source": [
    "INPUT"
   ]
  },
  {
   "cell_type": "code",
   "execution_count": 4,
   "metadata": {},
   "outputs": [],
   "source": [
    "from collections import Counter\n",
    "\n",
    "def possible_passwords(start, end):\n",
    "    password_range = range(start, end + 1)\n",
    "    # digits are always increasing in a number if after sorting the digits the number is still the same\n",
    "    has_only_increasing_digits = lambda password: password == \"\".join(sorted(password))\n",
    "    # check if at least two digits are the same\n",
    "    at_least_two_digits_same = lambda password: any(x >= 2 for x in Counter(password).values())\n",
    "    \n",
    "    possible_passwords = [\n",
    "        p \n",
    "        for p \n",
    "        in password_range \n",
    "        if has_only_increasing_digits(str(p)) and at_least_two_digits_same(str(p))\n",
    "    ]\n",
    "    \n",
    "    return possible_passwords"
   ]
  },
  {
   "cell_type": "code",
   "execution_count": 5,
   "metadata": {},
   "outputs": [],
   "source": [
    "def solve_puzzle_part1(puzzle_input: str=INPUT) -> int:\n",
    "    start, end = [int(x) for x in puzzle_input.split(\"-\")]\n",
    "    return len(possible_passwords(start, end))"
   ]
  },
  {
   "cell_type": "code",
   "execution_count": 6,
   "metadata": {},
   "outputs": [
    {
     "data": {
      "text/plain": [
       "895"
      ]
     },
     "execution_count": 6,
     "metadata": {},
     "output_type": "execute_result"
    }
   ],
   "source": [
    "solve_puzzle_part1(INPUT)"
   ]
  },
  {
   "cell_type": "markdown",
   "metadata": {},
   "source": [
    "## Part Two\n",
    "\n",
    "An Elf just remembered one more important detail: the two adjacent matching digits are not part of a larger group of matching digits.\n",
    "\n",
    "Given this additional criterion, but still ignoring the range rule, the following are now true:\n",
    "\n",
    "* 112233 meets these criteria because the digits never decrease and all repeated digits are exactly two digits long.\n",
    "* 123444 no longer meets the criteria (the repeated 44 is part of a larger group of 444).\n",
    "* 111122 meets the criteria (even though 1 is repeated more than twice, it still contains a double 22).\n",
    "\n",
    "How many different passwords within the range given in your puzzle input meet all of the criteria?"
   ]
  },
  {
   "cell_type": "code",
   "execution_count": 7,
   "metadata": {},
   "outputs": [],
   "source": [
    "from collections import Counter\n",
    "\n",
    "def possible_passwords(start, end):\n",
    "    password_range = range(start, end + 1)\n",
    "    # digits are always increasing in a number if after sorting the digits the number is still the same\n",
    "    has_only_increasing_digits = lambda password: password == \"\".join(sorted(password))\n",
    "    # check if at least two digits are the same\n",
    "    at_least_two_digits_same = lambda password: 2 in Counter(password).values()\n",
    "    \n",
    "    possible_passwords = [\n",
    "        p \n",
    "        for p \n",
    "        in password_range \n",
    "        if has_only_increasing_digits(str(p)) and at_least_two_digits_same(str(p))\n",
    "    ]\n",
    "    \n",
    "    return possible_passwords"
   ]
  },
  {
   "cell_type": "code",
   "execution_count": 8,
   "metadata": {},
   "outputs": [],
   "source": [
    "def solve_puzzle_part2(puzzle_input: str=INPUT) -> int:\n",
    "    start, end = [int(x) for x in puzzle_input.split(\"-\")]\n",
    "    return len(possible_passwords(start, end))"
   ]
  },
  {
   "cell_type": "code",
   "execution_count": 9,
   "metadata": {},
   "outputs": [
    {
     "data": {
      "text/plain": [
       "591"
      ]
     },
     "execution_count": 9,
     "metadata": {},
     "output_type": "execute_result"
    }
   ],
   "source": [
    "solve_puzzle_part2(INPUT)"
   ]
  }
 ],
 "metadata": {
  "kernelspec": {
   "display_name": "Python 3",
   "language": "python",
   "name": "python3"
  },
  "language_info": {
   "codemirror_mode": {
    "name": "ipython",
    "version": 3
   },
   "file_extension": ".py",
   "mimetype": "text/x-python",
   "name": "python",
   "nbconvert_exporter": "python",
   "pygments_lexer": "ipython3",
   "version": "3.7.3"
  }
 },
 "nbformat": 4,
 "nbformat_minor": 2
}
